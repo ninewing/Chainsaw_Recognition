{
 "cells": [
  {
   "cell_type": "code",
   "execution_count": null,
   "metadata": {
    "id": "r_YchUBHCBH6"
   },
   "outputs": [],
   "source": [
    "import tensorflow as tf\n",
    "from tensorflow import keras \n",
    "import numpy as np\n",
    "import librosa\n",
    "from matplotlib import pyplot as plt"
   ]
  },
  {
   "cell_type": "markdown",
   "metadata": {
    "id": "Gs6fdaLpYNtF"
   },
   "source": [
    "## Data Preprocessing"
   ]
  },
  {
   "cell_type": "code",
   "execution_count": null,
   "metadata": {
    "id": "Na5ZtI-ACI_-"
   },
   "outputs": [],
   "source": [
    "X = []\n",
    "Y = []\n",
    "#0 = Chainsaw; 1 = Fire"
   ]
  },
  {
   "cell_type": "markdown",
   "metadata": {
    "id": "7jEZ-ii4YYXa"
   },
   "source": [
    "Using librosa to load a dataset(Chainsaw&Fire sound) then feature extraction by mfcc <br>\n",
    "ref : https://en.wikipedia.org/wiki/Mel-frequency_cepstrum <br>"
   ]
  },
  {
   "cell_type": "code",
   "execution_count": null,
   "metadata": {
    "id": "3IYPx0xoCYsI"
   },
   "outputs": [],
   "source": [
    "for i in range(30):\n",
    "    path = '/content/Chainsaw'+ str(i) +'.wav'\n",
    "    y, sr = librosa.load(path)\n",
    "    x = librosa.feature.mfcc(y, sr)\n",
    "    X.append(x)\n",
    "    Y.append(0)"
   ]
  },
  {
   "cell_type": "code",
   "execution_count": null,
   "metadata": {
    "id": "sP0H9KWSCcqk"
   },
   "outputs": [],
   "source": [
    "for i in range(30):\n",
    "    path = '/content/Fire'+ str(i) +'.wav'\n",
    "    y, sr = librosa.load(path)\n",
    "    x = librosa.feature.mfcc(y, sr)\n",
    "    X.append(x)\n",
    "    Y.append(1)"
   ]
  },
  {
   "cell_type": "markdown",
   "metadata": {
    "id": "_1dZf_nTZX1_"
   },
   "source": [
    "I use mfcc because there have a small feature size just (20,44) per sample <br>"
   ]
  },
  {
   "cell_type": "code",
   "execution_count": null,
   "metadata": {
    "colab": {
     "base_uri": "https://localhost:8080/",
     "height": 70
    },
    "id": "9sTvy3LhDNOv",
    "outputId": "e7332c73-2f3e-419b-c9a3-bc8245b17a6c"
   },
   "outputs": [
    {
     "name": "stdout",
     "output_type": "stream",
     "text": [
      "(60, 20, 44)\n",
      "[0 0 0 0 0 0 0 0 0 0 0 0 0 0 0 0 0 0 0 0 0 0 0 0 0 0 0 0 0 0 1 1 1 1 1 1 1\n",
      " 1 1 1 1 1 1 1 1 1 1 1 1 1 1 1 1 1 1 1 1 1 1 1]\n"
     ]
    }
   ],
   "source": [
    "X = np.array(X)\n",
    "Y = np.array(Y)\n",
    "print(X.shape)\n",
    "print(Y)"
   ]
  },
  {
   "cell_type": "markdown",
   "metadata": {
    "id": "uXhkqfbdZ5iS"
   },
   "source": [
    "## Model Building"
   ]
  },
  {
   "cell_type": "code",
   "execution_count": null,
   "metadata": {
    "id": "p7vHRXOEDWCS"
   },
   "outputs": [],
   "source": [
    "model = keras.Sequential()\n",
    "model.add(keras.layers.Conv2D(64, 5, input_shape=(20, 44, 1), activation='relu'))\n",
    "model.add(keras.layers.Dropout(0.5))\n",
    "model.add(keras.layers.MaxPool2D())\n",
    "model.add(keras.layers.Conv2D(64, 5, activation='relu'))\n",
    "model.add(keras.layers.Dropout(0.5))\n",
    "model.add(keras.layers.MaxPool2D())\n",
    "model.add(keras.layers.Flatten())\n",
    "\n",
    "model.add(keras.layers.Dense(128, activation='relu'))\n",
    "model.add(keras.layers.Dropout(0.5))\n",
    "\n",
    "model.add(keras.layers.Dense(2, activation='softmax'))\n",
    "model.compile(optimizer='adam', loss='sparse_categorical_crossentropy', metrics=['accuracy'])"
   ]
  },
  {
   "cell_type": "code",
   "execution_count": null,
   "metadata": {
    "colab": {
     "base_uri": "https://localhost:8080/",
     "height": 1000
    },
    "id": "hzWDgv-bD6z8",
    "outputId": "202f8c77-bbed-4cc2-c313-0b00f921aef3"
   },
   "outputs": [
    {
     "name": "stdout",
     "output_type": "stream",
     "text": [
      "Epoch 1/30\n",
      "2/2 [==============================] - 0s 3ms/step - loss: 0.2665 - accuracy: 0.9333\n",
      "Epoch 2/30\n",
      "2/2 [==============================] - 0s 3ms/step - loss: 0.0907 - accuracy: 0.9333\n",
      "Epoch 3/30\n",
      "2/2 [==============================] - 0s 4ms/step - loss: 0.0158 - accuracy: 1.0000\n",
      "Epoch 4/30\n",
      "2/2 [==============================] - 0s 4ms/step - loss: 0.0312 - accuracy: 0.9833\n",
      "Epoch 5/30\n",
      "2/2 [==============================] - 0s 4ms/step - loss: 0.0646 - accuracy: 0.9833\n",
      "Epoch 6/30\n",
      "2/2 [==============================] - 0s 4ms/step - loss: 0.0486 - accuracy: 0.9667\n",
      "Epoch 7/30\n",
      "2/2 [==============================] - 0s 3ms/step - loss: 0.0319 - accuracy: 0.9833\n",
      "Epoch 8/30\n",
      "2/2 [==============================] - 0s 4ms/step - loss: 0.0716 - accuracy: 0.9667\n",
      "Epoch 9/30\n",
      "2/2 [==============================] - 0s 3ms/step - loss: 0.3259 - accuracy: 0.9333\n",
      "Epoch 10/30\n",
      "2/2 [==============================] - 0s 3ms/step - loss: 0.0039 - accuracy: 1.0000\n",
      "Epoch 11/30\n",
      "2/2 [==============================] - 0s 4ms/step - loss: 0.0111 - accuracy: 1.0000\n",
      "Epoch 12/30\n",
      "2/2 [==============================] - 0s 3ms/step - loss: 0.0522 - accuracy: 0.9833\n",
      "Epoch 13/30\n",
      "2/2 [==============================] - 0s 3ms/step - loss: 0.1251 - accuracy: 0.9667\n",
      "Epoch 14/30\n",
      "2/2 [==============================] - 0s 3ms/step - loss: 0.0110 - accuracy: 1.0000\n",
      "Epoch 15/30\n",
      "2/2 [==============================] - 0s 3ms/step - loss: 0.0066 - accuracy: 1.0000\n",
      "Epoch 16/30\n",
      "2/2 [==============================] - 0s 3ms/step - loss: 0.0159 - accuracy: 0.9833\n",
      "Epoch 17/30\n",
      "2/2 [==============================] - 0s 5ms/step - loss: 0.0076 - accuracy: 1.0000\n",
      "Epoch 18/30\n",
      "2/2 [==============================] - 0s 4ms/step - loss: 0.0013 - accuracy: 1.0000\n",
      "Epoch 19/30\n",
      "2/2 [==============================] - 0s 3ms/step - loss: 0.1194 - accuracy: 0.9833\n",
      "Epoch 20/30\n",
      "2/2 [==============================] - 0s 3ms/step - loss: 0.0204 - accuracy: 1.0000\n",
      "Epoch 21/30\n",
      "2/2 [==============================] - 0s 3ms/step - loss: 0.0214 - accuracy: 0.9833\n",
      "Epoch 22/30\n",
      "2/2 [==============================] - 0s 7ms/step - loss: 0.0164 - accuracy: 1.0000\n",
      "Epoch 23/30\n",
      "2/2 [==============================] - 0s 3ms/step - loss: 0.0122 - accuracy: 1.0000\n",
      "Epoch 24/30\n",
      "2/2 [==============================] - 0s 4ms/step - loss: 5.5400e-04 - accuracy: 1.0000\n",
      "Epoch 25/30\n",
      "2/2 [==============================] - 0s 3ms/step - loss: 7.3378e-04 - accuracy: 1.0000\n",
      "Epoch 26/30\n",
      "2/2 [==============================] - 0s 4ms/step - loss: 0.0064 - accuracy: 1.0000\n",
      "Epoch 27/30\n",
      "2/2 [==============================] - 0s 3ms/step - loss: 0.0021 - accuracy: 1.0000\n",
      "Epoch 28/30\n",
      "2/2 [==============================] - 0s 3ms/step - loss: 0.0401 - accuracy: 0.9833\n",
      "Epoch 29/30\n",
      "2/2 [==============================] - 0s 4ms/step - loss: 0.0057 - accuracy: 1.0000\n",
      "Epoch 30/30\n",
      "2/2 [==============================] - 0s 3ms/step - loss: 0.0014 - accuracy: 1.0000\n"
     ]
    },
    {
     "data": {
      "text/plain": [
       "<tensorflow.python.keras.callbacks.History at 0x7fe4403dfc50>"
      ]
     },
     "execution_count": 8,
     "metadata": {
      "tags": []
     },
     "output_type": "execute_result"
    }
   ],
   "source": [
    "model.fit(X[:,:,:,None], Y, epochs=30)"
   ]
  },
  {
   "cell_type": "markdown",
   "metadata": {
    "id": "d6WdjBgEaDkG"
   },
   "source": [
    "## Evaluation"
   ]
  },
  {
   "cell_type": "code",
   "execution_count": null,
   "metadata": {
    "id": "EL4EiCo4ERVd"
   },
   "outputs": [],
   "source": [
    "names = ['เลื่อย','ไฟ']"
   ]
  },
  {
   "cell_type": "code",
   "execution_count": null,
   "metadata": {
    "id": "yfGoXgVoE9yb"
   },
   "outputs": [],
   "source": [
    "X_test = []\n",
    "Y_pred = [] "
   ]
  },
  {
   "cell_type": "code",
   "execution_count": null,
   "metadata": {
    "id": "H-gvsHhFE8sC"
   },
   "outputs": [],
   "source": [
    "for i in range(30,40):\n",
    "    path = '/content/Chainsaw'+ str(i) +'.wav'\n",
    "    y, sr = librosa.load(path)\n",
    "    x = librosa.feature.mfcc(y, sr)\n",
    "    X_test.append(x)"
   ]
  },
  {
   "cell_type": "code",
   "execution_count": null,
   "metadata": {
    "id": "dHl628iwFNCr"
   },
   "outputs": [],
   "source": [
    "for i in range(30,40):\n",
    "    path = '/content/Fire'+ str(i) +'.wav'\n",
    "    y, sr = librosa.load(path)\n",
    "    x = librosa.feature.mfcc(y, sr)\n",
    "    X_test.append(x)"
   ]
  },
  {
   "cell_type": "code",
   "execution_count": null,
   "metadata": {
    "colab": {
     "base_uri": "https://localhost:8080/",
     "height": 35
    },
    "id": "QsKFU_FjFeMB",
    "outputId": "08a932dc-f21f-4ee0-c56f-1c432687568c"
   },
   "outputs": [
    {
     "data": {
      "text/plain": [
       "(20, 20, 44)"
      ]
     },
     "execution_count": 14,
     "metadata": {
      "tags": []
     },
     "output_type": "execute_result"
    }
   ],
   "source": [
    "X_test = np.array(X_test)\n",
    "X_test.shape"
   ]
  },
  {
   "cell_type": "code",
   "execution_count": null,
   "metadata": {
    "id": "u_E7xToLE6Ey"
   },
   "outputs": [],
   "source": [
    "for i in range(20):\n",
    "  Y_pred.append(names[model.predict(X_test[i][None,:,:,None]).argmax()])"
   ]
  },
  {
   "cell_type": "code",
   "execution_count": null,
   "metadata": {
    "colab": {
     "base_uri": "https://localhost:8080/",
     "height": 372
    },
    "id": "-JW1e-bwGXjh",
    "outputId": "1fd2d442-4fdd-4d71-e71c-093385a42a7f"
   },
   "outputs": [
    {
     "data": {
      "text/plain": [
       "['เลื่อย',\n",
       " 'เลื่อย',\n",
       " 'เลื่อย',\n",
       " 'ไฟ',\n",
       " 'เลื่อย',\n",
       " 'เลื่อย',\n",
       " 'เลื่อย',\n",
       " 'เลื่อย',\n",
       " 'เลื่อย',\n",
       " 'เลื่อย',\n",
       " 'ไฟ',\n",
       " 'ไฟ',\n",
       " 'ไฟ',\n",
       " 'ไฟ',\n",
       " 'ไฟ',\n",
       " 'ไฟ',\n",
       " 'ไฟ',\n",
       " 'เลื่อย',\n",
       " 'ไฟ',\n",
       " 'เลื่อย']"
      ]
     },
     "execution_count": 17,
     "metadata": {
      "tags": []
     },
     "output_type": "execute_result"
    }
   ],
   "source": [
    "Y_pred"
   ]
  },
  {
   "cell_type": "code",
   "execution_count": null,
   "metadata": {
    "id": "Vy0nJ_05GZSx"
   },
   "outputs": [],
   "source": [
    "#estimate accuracy is 17/20 = 0.85"
   ]
  }
 ],
 "metadata": {
  "accelerator": "GPU",
  "colab": {
   "collapsed_sections": [],
   "name": "Chainsaw_Recognition.ipynb",
   "provenance": []
  },
  "kernelspec": {
   "display_name": "Python 3",
   "language": "python",
   "name": "python3"
  },
  "language_info": {
   "codemirror_mode": {
    "name": "ipython",
    "version": 3
   },
   "file_extension": ".py",
   "mimetype": "text/x-python",
   "name": "python",
   "nbconvert_exporter": "python",
   "pygments_lexer": "ipython3",
   "version": "3.8.3"
  }
 },
 "nbformat": 4,
 "nbformat_minor": 1
}
